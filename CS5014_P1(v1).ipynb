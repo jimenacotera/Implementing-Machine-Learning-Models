{
 "cells": [
  {
   "cell_type": "markdown",
   "id": "97a705a7",
   "metadata": {},
   "source": [
    "# CS5014 Machine Learning \n",
    "\n",
    "##### Practical 1 \n",
    "##### Credits: 50% of the coursework\n",
    "\n",
    "##### Deadline: 12/03/2025\n",
    "\n",
    "\n",
    "_Note that MMS is the definitive source for deadlines and weights._"
   ]
  },
  {
   "cell_type": "markdown",
   "id": "3e26dde6",
   "metadata": {},
   "source": [
    "## Aims\n",
    "\n",
    "\n",
    "The objectives of this assignment are:\n",
    "\n",
    "* deepen your understanding of linear regression and logistic regression\n",
    "* gain experience in implementing learning algorithms \n",
    "* gain experience in evaluating machine learning algorithms\n"
   ]
  },
  {
   "cell_type": "markdown",
   "id": "f662dc6a",
   "metadata": {},
   "source": [
    "## Set-up\n",
    "\n",
    "You are **only allowed** to use the following imported packages for this practical. No off-the-shelf machine learning packages such as _scikit-learn_ are allowed. \n"
   ]
  },
  {
   "cell_type": "code",
   "execution_count": 3,
   "id": "931f3a91",
   "metadata": {
    "execution": {
     "iopub.execute_input": "2025-02-13T13:00:21.096457Z",
     "iopub.status.busy": "2025-02-13T13:00:21.095970Z",
     "iopub.status.idle": "2025-02-13T13:00:22.503662Z",
     "shell.execute_reply": "2025-02-13T13:00:22.502429Z",
     "shell.execute_reply.started": "2025-02-13T13:00:21.096403Z"
    }
   },
   "outputs": [],
   "source": [
    "# if you use jupyter-lab, switch to %matplotlib inline instead\n",
    "%matplotlib inline\n",
    "# %matplotlib notebook\n",
    "%config Completer.use_jedi = False\n",
    "import matplotlib.pyplot as plt\n",
    "import autograd.numpy as np  # Thinly-wrapped numpy\n",
    "from autograd import grad    \n",
    "from autograd import hessian\n",
    "import autograd.numpy.linalg as linalg\n",
    "import matplotlib.pyplot as plt\n",
    "import pandas as pd"
   ]
  },
  {
   "cell_type": "markdown",
   "id": "623a5d9e-e308-42c9-8dc8-d5d42c4055fa",
   "metadata": {},
   "source": [
    "The following method computes the gradient of a given function $f$ at an input location `initial`. Note that the finite difference method suffers from truncating and rounding errors and can be slow for large-scale machine learning models. It should never be directly used in a gradient descent algorithm. But it can be very useful to check your gradient derivation and implementation. You should always check your gradients before using them."
   ]
  },
  {
   "cell_type": "code",
   "execution_count": 17,
   "id": "fedfaf21-f585-47e4-a083-df8d9bd467ae",
   "metadata": {
    "execution": {
     "iopub.execute_input": "2025-02-13T13:00:22.505011Z",
     "iopub.status.busy": "2025-02-13T13:00:22.504671Z",
     "iopub.status.idle": "2025-02-13T13:00:22.511097Z",
     "shell.execute_reply": "2025-02-13T13:00:22.510210Z",
     "shell.execute_reply.started": "2025-02-13T13:00:22.504986Z"
    }
   },
   "outputs": [],
   "source": [
    "def finite_difference_gradient(f, initial, eps=1e-6):\n",
    "    initial = np.array(initial, dtype=float)\n",
    "    n = len(initial)\n",
    "    output = np.zeros(n)\n",
    "    for i in range(n):\n",
    "        ei = np.zeros(n)\n",
    "        ei[i] = 1\n",
    "        ## debugging\n",
    "        print(\"initial:\", initial)\n",
    "        print(\"ei: \", ei)\n",
    "        ## / debugging\n",
    "        f1 = f(initial + eps * ei)\n",
    "        f2 = f(initial - eps * ei)\n",
    "        print(\"f1: \", f1)\n",
    "        output[i] = (f1-f2)/(2*eps)\n",
    "    output = output.reshape(n,1)\n",
    "    return output"
   ]
  },
  {
   "cell_type": "markdown",
   "id": "fd90e4f4-b17e-4081-b541-859b4fbc27ca",
   "metadata": {},
   "source": [
    "## Question 1 (Lasso regression)\n",
    "\n",
    "\n",
    "In this question, we are going to investigate Lasso regression. You are going to implement a gradient descent based learning algorithm for Lasso. Then use the implemented algorithm to find out what features are truely relevant in predicting the target. \n",
    "\n",
    "The dataset $\\{\\mathbf{x}^{(i)}, y^{(i)}\\}$ is imported below for you:\n",
    "* the input design matrix `d1X` contains ``n=200`` observations and each $\\mathbf{x}^{(i)}$ has ``m=200`` features \n",
    "* and the last column is the regression targets ${y}^{(i)}$ (and they are stored in `d1Y`)\n",
    "* among the 200 features, however, only three of them are relevant to the target $y$; and the rest 197 features are random noises\n",
    "* you may assume the bias term is zero for this question\n",
    "\n"
   ]
  },
  {
   "cell_type": "code",
   "execution_count": 5,
   "id": "742daef3-9b32-4027-801c-8786ae6e4166",
   "metadata": {
    "execution": {
     "iopub.execute_input": "2025-02-13T13:00:22.512017Z",
     "iopub.status.busy": "2025-02-13T13:00:22.511805Z",
     "iopub.status.idle": "2025-02-13T13:00:22.548825Z",
     "shell.execute_reply": "2025-02-13T13:00:22.547644Z",
     "shell.execute_reply.started": "2025-02-13T13:00:22.511995Z"
    }
   },
   "outputs": [],
   "source": [
    "# read in dataset1\n",
    "dataset1_df = pd.read_csv('./datasets/dataset1.csv', header=0)\n",
    "dataset1 = np.array(dataset1_df)\n",
    "d1X, d1Y = dataset1[:, 0:200], dataset1[:, -1]"
   ]
  },
  {
   "cell_type": "markdown",
   "id": "36e3e131-5ea6-45b7-b937-edc67a37ff7d",
   "metadata": {},
   "source": [
    "### Task 1.1\n",
    "\n",
    "\n",
    "Recall that Lasso regression's loss function is defined as  \n",
    "\n",
    "\n",
    "$$L(\\mathbf{w}) = \\frac{1}{2n} \\sum_{i=1}^n (y^{(i)} - \\mathbf{w}^{\\top}\\mathbf{x}^{(i)})^2 + \\lambda \\sum_{j=1}^m |w_j|,$$\n",
    "where $\\lambda >0$ is the penalty coefficient\n",
    "\n",
    "* give the gradient expression for $\\mathbf{w}$\n",
    "* then implement a gradient descent based algorithm to learn the parameter\n",
    "\n",
    "*Hint: To deal with sub-gradient descent properly, you may need to do the following: when the learning process is about to converge (e.g. after certain number of iterations)* \n",
    "1. *use a diminishing learning rate, e.g.* $\\gamma_t = \\frac{\\gamma}{\\sqrt{t}}$\n",
    "2. *if any weight switches signs during the learning process, set the weight to zero directly*\n",
    "3. *soft-thresholding, set a small constant e.g. $\\epsilon = 10^{-5}$, if any weight's absolute value drops below $\\epsilon$, set it to zero directly*;\n",
    "*You can do either 2 or 3 (or both).*"
   ]
  },
  {
   "cell_type": "markdown",
   "id": "d3c51f0e",
   "metadata": {},
   "source": [
    "#### Answer Task 1.1\n",
    "The gradient expression for $\\mathbf{w}$ $$\\large\n",
    "\t\\mathbf{w}_{Lasso} = (\\mathbf{X}^\\top\\mathbf{X} + n\\lambda \\mathbf{sign(w)})^{-1} \\mathbf{X}^\\top\\mathbf{y}$$\n"
   ]
  },
  {
   "cell_type": "code",
   "execution_count": 6,
   "id": "90a5df50",
   "metadata": {},
   "outputs": [],
   "source": [
    "# Implement a gradient descent algorithm\n",
    "#np.sign handles sign stuff\n",
    "# apparently because this is a subgradient i need to solve it in iterative approaches "
   ]
  },
  {
   "cell_type": "markdown",
   "id": "3e24a212-6595-4d0b-acd0-f1d66ff4555a",
   "metadata": {
    "execution": {
     "iopub.execute_input": "2025-02-10T17:49:06.560372Z",
     "iopub.status.busy": "2025-02-10T17:49:06.559407Z",
     "iopub.status.idle": "2025-02-10T17:49:06.576490Z",
     "shell.execute_reply": "2025-02-10T17:49:06.575074Z",
     "shell.execute_reply.started": "2025-02-10T17:49:06.560323Z"
    }
   },
   "source": [
    "### Task 1.2 \n",
    "\n",
    "A special property of Lasso regression is sparsity. That means, if a proper penalty parameter is used, irrelevant input features' parameters will become zero. And this sparsity property can be used to find out which input features are important or relevant. In this task, you are going to use the algorithm implemented in Task 1.1 to investigate which three of the input dimensions are truly relevant in terms of predicting the targets $y$. \n",
    "\n",
    "* plot the full regularisation path of $\\hat{\\mathbf{w}}(\\lambda)$ for a range of penalty parameter $\\lambda$\n",
    "\n",
    "\n",
    "* use the plot to tell which features are relevant and what are their cooresponding weights?\n",
    "\n",
    "*Hint:*\n",
    "1. *To find out the relevant features, you should try different $\\lambda$s and find the whole regularisation path; $\\ln\\lambda \\in [-8:0]$ seems appropriate*;\n",
    "2. *It is a good idea to fit Lasso with $\\lambda$s in an ascending order; since we know as $\\lambda$ increases, more weight $\\hat{\\mathbf{w}}(\\lambda_t)$ will become sparse*; \n",
    "3. *Instead of initialising the weight randomly for the gradient descent, you may \"warm start\" the algorithm with the learnt parameter with a smaller $\\lambda$;*\n"
   ]
  },
  {
   "cell_type": "code",
   "execution_count": 7,
   "id": "85a88f75-d6e7-425d-8e42-dd19034e1c44",
   "metadata": {
    "execution": {
     "iopub.execute_input": "2025-02-13T13:00:22.549770Z",
     "iopub.status.busy": "2025-02-13T13:00:22.549560Z",
     "iopub.status.idle": "2025-02-13T13:00:22.553570Z",
     "shell.execute_reply": "2025-02-13T13:00:22.552783Z",
     "shell.execute_reply.started": "2025-02-13T13:00:22.549748Z"
    }
   },
   "outputs": [],
   "source": [
    "### report your results"
   ]
  },
  {
   "cell_type": "markdown",
   "id": "d211324e",
   "metadata": {},
   "source": [
    "## Question 2 (Logistic regression)\n",
    "\n",
    "In this question, we are going to implement a logistic regression model to do binary classification on a simulated dataset. The dataset's input feature are four-dimensional vectors $\\mathbf{x}^{(i)} \\in \\mathbb{R}^4$ and as expected the targets are binary, *i.e.* $y^{(i)} \\in \\{0, 1\\}$. \n",
    "\n",
    "\n",
    "The dataset $\\{\\mathbf{x}^{(i)}, y^{(i)}\\}$ is imported below for you:\n",
    "* ``dataset2``: 2000 observations and each input $\\mathbf{x}$ has 4 features \n",
    "* and the last column is the target ${y}^{(i)}$\n",
    "* the dataset is then split into training and testing parts"
   ]
  },
  {
   "cell_type": "code",
   "execution_count": 8,
   "id": "34706afa",
   "metadata": {
    "execution": {
     "iopub.execute_input": "2025-02-13T13:00:22.554494Z",
     "iopub.status.busy": "2025-02-13T13:00:22.554288Z",
     "iopub.status.idle": "2025-02-13T13:00:22.576513Z",
     "shell.execute_reply": "2025-02-13T13:00:22.575547Z",
     "shell.execute_reply.started": "2025-02-13T13:00:22.554472Z"
    }
   },
   "outputs": [],
   "source": [
    "# read in dataset2\n",
    "dataset2_df = pd.read_csv('./datasets/dataset2.csv', header=0)\n",
    "dataset2 = np.array(dataset2_df)\n",
    "d2X, d2Y = dataset2[:, 0:4], dataset2[:, -1]\n",
    "# split the data into training and testing \n",
    "# the training dataset has the first 1500 observation; \n",
    "# in practice, you should randomly shuffle before the split\n",
    "d2_xtrain, d2_ytrain = d2X[0:1500, :], d2Y[0:1500]\n",
    "# the testing dataset has the last 500\n",
    "d2_xtest, d2_ytest = d2X[1500:, :], d2Y[1500:]"
   ]
  },
  {
   "cell_type": "markdown",
   "id": "9270ebbf",
   "metadata": {},
   "source": [
    "### Task 2.1 Implementation of logistic regression\n",
    "\n",
    "Your task here is to implement a gradient descent based algorithm to train a logistic regression model. For this task, you cannot use `autograd`'s auto-differentiation method (*i.e.* the imported `grad` method). You will be guided to finish the task step by step. "
   ]
  },
  {
   "cell_type": "markdown",
   "id": "96c28469",
   "metadata": {},
   "source": [
    "First, implement the `sigmoid` function:\n",
    "\n",
    "$$\\sigma(z) = \\frac{1}{1+e^{-z}}$$"
   ]
  },
  {
   "cell_type": "code",
   "execution_count": 9,
   "id": "8746cd2a",
   "metadata": {},
   "outputs": [],
   "source": [
    "def sigmoid(z):\n",
    "    return 1 / (1 + np.exp(-z))"
   ]
  },
  {
   "cell_type": "markdown",
   "id": "cf2670fb",
   "metadata": {},
   "source": [
    "Second, implement the cross-entropy loss and its gradient. You may want to refer to the lecture slides for the details. Recall the binary **C**ross **E**ntropy (CE) _loss_ is \n",
    "\n",
    "\n",
    "$$\n",
    "L(\\mathbf{w}, b)=  -\\frac{1}{n}\\sum_{i=1}^n {y^{(i)}} \\ln \\sigma^{(i)}+ (1- y^{(i)}) \\ln (1-\\sigma^{(i)})\n",
    "$$\n",
    "\n",
    "where $\\sigma^{(i)} =\\sigma(\\mathbf{w}^\\top\\mathbf{x}^{(i)} + b).$"
   ]
  },
  {
   "cell_type": "markdown",
   "id": "9fcf4a31",
   "metadata": {},
   "source": [
    "### 2.1 Answer. \n",
    "The loss in matrix form is  $$J(\\mathbf{y}, \\hat{\\mathbf{y}}) = -\\frac{1}{n}\\left[\\,\\mathbf{y}^{T}\\ln(\\sigma) + (\\mathbf{1}-\\mathbf{y})^{T}\\ln(\\mathbf{1}-\\sigma)\\,\\right]$$\n",
    "\n",
    "The gradient with respect to w for cross entropy loss is $$\\large\n",
    "\\nabla \\ell(\\mathbf{w}) =-\\frac{1}{n} \\mathbf{X}^\\top (\\mathbf{y} - \\boldsymbol{\\sigma})$$"
   ]
  },
  {
   "cell_type": "code",
   "execution_count": 100,
   "id": "8912594a",
   "metadata": {},
   "outputs": [],
   "source": [
    "def cross_entropy_loss_with_gradient(w, b, X, y):\n",
    "    '''\n",
    "    y -> n x 1\n",
    "    x -> n x m \n",
    "    w -> m x 1\n",
    "    b -> float\n",
    "    Output: \n",
    "    loss = float\n",
    "    gradient_w -> m x 1\n",
    "    gradient_b -> m x 1\n",
    "    '''\n",
    "    # Number of samples\n",
    "    #n = X.size\n",
    "    n = float(X.shape[0])\n",
    "    # Compute prediction w sigmoid function \n",
    "    temp = np.dot(X, w) + b\n",
    "    sigma = sigmoid(temp)\n",
    "\n",
    "    # Debug a little\n",
    "    # print(\"w shape: \", w.shape)\n",
    "    # print(\"X shape: \" , X.shape)\n",
    "    # print(\"y shape: \", y.shape)\n",
    "    # print(\"sigma shape: \" , sigma.shape)\n",
    "    ## compute the loss \n",
    "    #error = y.T @ np.log(sigma) + (1-y).T @ np.log(1 - sigma)\n",
    "    error = - y.T @ np.log(sigma) - (1-y.T) @ np.log(1 - sigma)\n",
    "    loss = (np.sum(error)) / n\n",
    "\t## compute the gradient w.r.t w and b\n",
    "    #gradient_w = - (1/n) * (X.T @ (y - sigma))\n",
    "    gradient_w = -  (1/n) * np.dot(X.T , (y - sigma)) \n",
    "    gradient_b = - (1/n) * np.sum(y - sigma)\n",
    "    # print(\"Gradient shape: \", gradient.shape)\n",
    "\t## return the loss and the required gradients\n",
    "    return loss, gradient_w, gradient_b"
   ]
  },
  {
   "cell_type": "code",
   "execution_count": 101,
   "id": "753531fc",
   "metadata": {},
   "outputs": [
    {
     "name": "stdout",
     "output_type": "stream",
     "text": [
      "Cross Entropy Loss: 0.36686678640551745\n",
      "[-0.20687020897043107, -0.14394676417074018]\n",
      "-0.036199749142716765\n"
     ]
    }
   ],
   "source": [
    "# TODO get rid of this - testing cross_entropy_loss_with_gradient()\n",
    "# Test parameters\n",
    "# w = np.array([[0.5], [-0.5]])  \n",
    "# b = 1          \n",
    "# X = np.array([[1.0, -1.0],\n",
    "#               [0.5,  0.0],\n",
    "#               [0.5,  1.5]]) \n",
    "# y = np.array([[1], [0], [1]])  \n",
    "\n",
    "X = np.array([[0.5, 1.5], [1,1], [1.5, 0.5], [3, 0.5], [2, 2], [1, 2.5]])  \n",
    "y = np.array([0, 0, 0, 1, 1, 1])  \n",
    "w = np.array([1,1])\n",
    "b = -3    \n",
    "\n",
    "\n",
    "\n",
    "# Test your function\n",
    "loss_test, grad_w_test, grad_b_test = cross_entropy_loss_with_gradient(w, b, X, y)\n",
    "\n",
    "print(\"Cross Entropy Loss:\", loss_test)\n",
    "print(grad_w_test.tolist())\n",
    "print(grad_b_test)"
   ]
  },
  {
   "cell_type": "code",
   "execution_count": 104,
   "id": "6ace99d7",
   "metadata": {},
   "outputs": [],
   "source": [
    "# Test the gradient implementation using the finite diff method provided\n",
    "\n",
    "# # first test the sigmoid function\n",
    "# # Generate an array of evenly spaced values between -10 and 10\n",
    "# z_tmp = np.arange(-10,11)\n",
    "\n",
    "# # Use the function implemented above to get the sigmoid values\n",
    "# sig = sigmoid(z_tmp)\n",
    "\n",
    "# # Code for pretty printing the two arrays next to each other\n",
    "# np.set_printoptions(precision=3) \n",
    "# print(\"Input (z), Output (sigmoid(z))\")\n",
    "# print(np.c_[z_tmp, sig])\n",
    "\n",
    "# import matplotlib.pyplot as plt\n",
    "# # Plot z vs sigmoid(z)\n",
    "# fig,ax = plt.subplots(1,1,figsize=(5,3))\n",
    "# ax.plot(z_tmp, sig, c=\"b\")\n",
    "\n",
    "# ax.set_title(\"Sigmoid function\")\n",
    "# ax.set_ylabel('sigmoid(z)')\n",
    "# ax.set_xlabel('z')\n",
    "# #draw_vthresh(ax,0)\n",
    "\n"
   ]
  },
  {
   "cell_type": "code",
   "execution_count": 102,
   "id": "2a25c888",
   "metadata": {},
   "outputs": [
    {
     "name": "stdout",
     "output_type": "stream",
     "text": [
      "[0.498333393278696, 0.4988394298399669]\n",
      "0.49861806546328574\n"
     ]
    }
   ],
   "source": [
    "# Testing gradient at a location\n",
    "X_tmp = np.array([[0.5, 1.5], [1,1], [1.5, 0.5], [3, 0.5], [2, 2], [1, 2.5]])\n",
    "y_tmp = np.array([0, 0, 0, 1, 1, 1])\n",
    "w_tmp = np.array([2.,3.])\n",
    "b_tmp = 1.\n",
    "loss, grad_w_test, grad_b_test = cross_entropy_loss_with_gradient(w=w_tmp, b=b_tmp, X=X_tmp, y=y_tmp)\n",
    "# print(f\"dj_db: {dj_db_tmp}\" )\n",
    "# print(f\"dj_dw: {dj_dw_tmp.tolist()}\" )\n",
    "print(grad_w_test.tolist())\n",
    "print(grad_b_test)"
   ]
  },
  {
   "cell_type": "code",
   "execution_count": 105,
   "id": "92b87616",
   "metadata": {},
   "outputs": [
    {
     "name": "stdout",
     "output_type": "stream",
     "text": [
      "initial: [2.5 2.  1.5 4.5 7.  6.5]\n",
      "ei:  [1. 0. 0. 0. 0. 0.]\n",
      "f1:  [0.924 0.881 0.818 0.989 0.999 0.998]\n"
     ]
    },
    {
     "ename": "ValueError",
     "evalue": "setting an array element with a sequence.",
     "output_type": "error",
     "traceback": [
      "\u001b[0;31m---------------------------------------------------------------------------\u001b[0m",
      "\u001b[0;31mTypeError\u001b[0m                                 Traceback (most recent call last)",
      "\u001b[0;31mTypeError\u001b[0m: only length-1 arrays can be converted to Python scalars",
      "\nThe above exception was the direct cause of the following exception:\n",
      "\u001b[0;31mValueError\u001b[0m                                Traceback (most recent call last)",
      "Cell \u001b[0;32mIn[105], line 4\u001b[0m\n\u001b[1;32m      1\u001b[0m \u001b[39m# Test the gradient\u001b[39;00m\n\u001b[1;32m      2\u001b[0m \u001b[39m# Setting function to be logistic regression model with sigmoid function \u001b[39;00m\n\u001b[0;32m----> 4\u001b[0m fdg \u001b[39m=\u001b[39m finite_difference_gradient(sigmoid, initial\u001b[39m=\u001b[39;49m(np\u001b[39m.\u001b[39;49mdot(X_tmp, w_tmp) \u001b[39m+\u001b[39;49m b))\n",
      "Cell \u001b[0;32mIn[17], line 15\u001b[0m, in \u001b[0;36mfinite_difference_gradient\u001b[0;34m(f, initial, eps)\u001b[0m\n\u001b[1;32m     13\u001b[0m     f2 \u001b[39m=\u001b[39m f(initial \u001b[39m-\u001b[39m eps \u001b[39m*\u001b[39m ei)\n\u001b[1;32m     14\u001b[0m     \u001b[39mprint\u001b[39m(\u001b[39m\"\u001b[39m\u001b[39mf1: \u001b[39m\u001b[39m\"\u001b[39m, f1)\n\u001b[0;32m---> 15\u001b[0m     output[i] \u001b[39m=\u001b[39m (f1\u001b[39m-\u001b[39mf2)\u001b[39m/\u001b[39m(\u001b[39m2\u001b[39m\u001b[39m*\u001b[39meps)\n\u001b[1;32m     16\u001b[0m output \u001b[39m=\u001b[39m output\u001b[39m.\u001b[39mreshape(n,\u001b[39m1\u001b[39m)\n\u001b[1;32m     17\u001b[0m \u001b[39mreturn\u001b[39;00m output\n",
      "\u001b[0;31mValueError\u001b[0m: setting an array element with a sequence."
     ]
    }
   ],
   "source": [
    "# Test the gradient\n",
    "# Setting function to be logistic regression model with sigmoid function \n",
    "\n",
    "fdg = finite_difference_gradient(sigmoid, initial=(np.dot(X_tmp, w_tmp) + b))"
   ]
  },
  {
   "cell_type": "markdown",
   "id": "5eafe409",
   "metadata": {},
   "source": [
    "Now, implement the gradient descent algorithm below. Before that, you should consider testing our gradient implementation before using it in the training algorithm. "
   ]
  },
  {
   "cell_type": "code",
   "execution_count": 141,
   "id": "c8f29df4",
   "metadata": {
    "execution": {
     "iopub.execute_input": "2025-02-13T13:00:22.608085Z",
     "iopub.status.busy": "2025-02-13T13:00:22.607861Z",
     "iopub.status.idle": "2025-02-13T13:00:22.624092Z",
     "shell.execute_reply": "2025-02-13T13:00:22.623063Z",
     "shell.execute_reply.started": "2025-02-13T13:00:22.608061Z"
    }
   },
   "outputs": [],
   "source": [
    "def logistic_regression_train(X, y, lr, tol= 1e-5, maxIters= 2000):\n",
    "    ''' \n",
    "    X -> n x m  \n",
    "    y -> n x 1\n",
    "    lr -> learning rate (scalar)\n",
    "    tol -> tolerance (scalar)\n",
    "    maxIters -> max number of iterations/epochs (scalar)\n",
    "\n",
    "    OUTPUT: \n",
    "    w0 -> m x 1\n",
    "    b0 -> scalar\n",
    "    losses -> maxiters x 1 array                # TODO confirm this \n",
    "\n",
    "    '''\n",
    "    n, d = X.shape \n",
    "    # initialise w0, b0\n",
    "    w0 = np.zeros(d)    #TODO \n",
    "    b0 = 0.0            #TODO\n",
    "    losses = []\n",
    "    # loop until converge\n",
    "    for i in range(maxIters):\n",
    "        loss, grad_w, grad_b = cross_entropy_loss_with_gradient(w0, b0, X, y)\n",
    "        ## Implement gradient descent here\n",
    "        w0 = w0 - lr * grad_w\n",
    "        b0 = b0 - lr * grad_b\n",
    "        # Store loss \n",
    "        losses.append(loss)\n",
    "        # Check convergence here \n",
    "        # if True:\n",
    "        if loss < tol:\n",
    "            break\n",
    "    return w0, b0, losses"
   ]
  },
  {
   "cell_type": "markdown",
   "id": "1c4e01f5",
   "metadata": {},
   "source": [
    "After you finish implementing all the above methods, use your learning algorithm to train a logistic regression model on the training dataset and answer the following questions:\n",
    "\n",
    "* plot the learning curve\n",
    "* report the learnt parameter with a learning rate 0.1, `tol=1e-5` and `maxIters=2000`\n",
    "* report the classification accuracy on the test dataset"
   ]
  },
  {
   "cell_type": "code",
   "execution_count": 142,
   "id": "22a1c3bd-ce1c-4121-a606-523ef126e9dc",
   "metadata": {
    "execution": {
     "iopub.execute_input": "2025-02-13T13:00:22.625404Z",
     "iopub.status.busy": "2025-02-13T13:00:22.625164Z",
     "iopub.status.idle": "2025-02-13T13:00:22.640723Z",
     "shell.execute_reply": "2025-02-13T13:00:22.639423Z",
     "shell.execute_reply.started": "2025-02-13T13:00:22.625378Z"
    }
   },
   "outputs": [],
   "source": [
    "## run your algorithm and report your findings\n",
    "d2_w0, d2_b0, d2_losses  = logistic_regression_train(d2_xtrain, d2_ytrain, lr=0.1)"
   ]
  },
  {
   "cell_type": "code",
   "execution_count": 153,
   "id": "63f4b318",
   "metadata": {},
   "outputs": [
    {
     "name": "stdout",
     "output_type": "stream",
     "text": [
      "Learnt parameters Logistic Regression\n",
      "b:  -2.1874516257246315\n",
      "w:  [0.6887388090635332, -0.8185814087128527, 3.8636169121855057, -0.00069519687855864]\n"
     ]
    },
    {
     "data": {
      "image/png": "[encoded data removed]",
      "text/plain": [
       "<Figure size 640x480 with 1 Axes>"
      ]
     },
     "metadata": {},
     "output_type": "display_data"
    }
   ],
   "source": [
    "print(\"Learnt parameters Logistic Regression\")\n",
    "print(\"b: \", d2_b0)\n",
    "print(\"w: \", d2_w0.tolist())\n",
    "\n",
    "# plot the losses over iterations\n",
    "# print(d2_losses)\n",
    "plt.figure()\n",
    "plt.plot(d2_losses)\n",
    "plt.xlabel('Iteration')\n",
    "plt.ylabel('Cross Entropy Loss')\n",
    "plt.title('Binary Cross Entropy Loss over Iterations')\n",
    "plt.grid(True)\n",
    "plt.show()"
   ]
  },
  {
   "cell_type": "code",
   "execution_count": 144,
   "id": "b7ca54d7",
   "metadata": {},
   "outputs": [],
   "source": [
    "def predictLogisticRegression(w, X, b): \n",
    "    z = np.dot(X, w) + b\n",
    "    pred = sigmoid(z)\n",
    "    #predict(w, X) = logistic.(X * w) .> 0.5;\n",
    "    return (pred > 0.5).astype(int)"
   ]
  },
  {
   "cell_type": "code",
   "execution_count": 145,
   "id": "0eebf983",
   "metadata": {},
   "outputs": [
    {
     "name": "stdout",
     "output_type": "stream",
     "text": [
      "Training accuracy:  0.8513333333333334\n",
      "Testing accuracy:  0.836\n"
     ]
    }
   ],
   "source": [
    "# classification accuracy\n",
    "def logisticRegressionClassificationAccuracy(w, X, y, b): \n",
    "    pred = predictLogisticRegression(w,X,b)\n",
    "    n, m = X.shape\n",
    "    acc = (y == pred).sum() / n\n",
    "    return acc\n",
    "\n",
    "train_acc = logisticRegressionClassificationAccuracy(d2_w0, d2_xtrain, d2_ytrain, d2_b0)\n",
    "test_acc = logisticRegressionClassificationAccuracy(d2_w0, d2_xtest, d2_ytest, d2_b0)\n",
    "\n",
    "print(\"Training accuracy: \", train_acc)\n",
    "print(\"Testing accuracy: \", test_acc)\n",
    "\n",
    "\n"
   ]
  },
  {
   "cell_type": "markdown",
   "id": "4f5eeddc",
   "metadata": {},
   "source": [
    "### Task 2.2 Regularisation\n",
    "\n",
    "In this sub-task, you are going to apply $L_2$ regularisation to the logistic regression model. The regularised loss is\n",
    "\n",
    "$$\n",
    "L(\\mathbf{w}, b)= - \\frac{1}{n}\\sum_{i=1}^n {y^{(i)}} \\ln \\sigma^{(i)}+ (1- y^{(i)}) \\ln (1-\\sigma^{(i)}) + \\frac{\\lambda}{2} \\|\\mathbf{w}\\|_2^2\n",
    "$$\n",
    "\n",
    "* where $\\lambda >0$ is the regularisation hyperparameter\n",
    "\n",
    "* note that we do not usually apply penalty on the bias parameter $b$\n",
    "\n",
    "Implement the following method that fits a regularised logistic regression model with a given $\\lambda$."
   ]
  },
  {
   "cell_type": "code",
   "execution_count": 154,
   "id": "9362f937",
   "metadata": {
    "execution": {
     "iopub.execute_input": "2025-02-13T13:00:22.642606Z",
     "iopub.status.busy": "2025-02-13T13:00:22.642180Z",
     "iopub.status.idle": "2025-02-13T13:00:22.658793Z",
     "shell.execute_reply": "2025-02-13T13:00:22.657589Z",
     "shell.execute_reply.started": "2025-02-13T13:00:22.642562Z"
    }
   },
   "outputs": [],
   "source": [
    "def logistic_regression_reg_train(X, y, lr, lam = 0.01, tol= 1e-5, maxIters= 2000):\n",
    "    n, d = X.shape \n",
    "    # initialise w0, b0\n",
    "    w0 = np.zeros(d)\n",
    "    b0 = 0.0\n",
    "    losses = []\n",
    "    # loop until converge\n",
    "    for i in range(maxIters):\n",
    "        loss, grad_w, grad_b = cross_entropy_loss_with_gradient(w0, b0, X, y)\n",
    "        ## Implement gradient descent here\n",
    "        L2_penalty = (lam/2) * (w.T @ w)\n",
    "        weight_decay = lam * w0\n",
    "        w0 = w0 - lr * (grad_w + weight_decay)\n",
    "        b0 = b0 - lr * grad_b\n",
    "        # Store loss \n",
    "        losses.append(loss + L2_penalty)\n",
    "        # Check convergence here \n",
    "        # Special treatment to ensure convergence because it is a subgradient\n",
    "        # if loss < tol:\n",
    "        #     break\n",
    "    return w0, b0, losses"
   ]
  },
  {
   "cell_type": "markdown",
   "id": "e4fe2830",
   "metadata": {},
   "source": [
    "Complete and report the following two results\n",
    "* report the training loss and learnt parameter by setting $\\lambda=0.01$\n",
    "* report the testing performance for the regularised logistic regression model with $\\lambda=0.01$"
   ]
  },
  {
   "cell_type": "code",
   "execution_count": 155,
   "id": "034441f1-227d-4c3a-825e-7aea11c78769",
   "metadata": {
    "execution": {
     "iopub.execute_input": "2025-02-13T13:00:22.660759Z",
     "iopub.status.busy": "2025-02-13T13:00:22.660316Z",
     "iopub.status.idle": "2025-02-13T13:00:22.677152Z",
     "shell.execute_reply": "2025-02-13T13:00:22.675886Z",
     "shell.execute_reply.started": "2025-02-13T13:00:22.660714Z"
    }
   },
   "outputs": [
    {
     "name": "stdout",
     "output_type": "stream",
     "text": [
      "Learnt parameters using L2 Regularisation\n",
      "b:  -1.6846128344689948\n",
      "w:  [0.4527918112653441, -0.5479870244133224, 2.615092357149314, -0.006212363363570461]\n"
     ]
    },
    {
     "data": {
      "image/png": "[encoded data removed]",
      "text/plain": [
       "<Figure size 640x480 with 1 Axes>"
      ]
     },
     "metadata": {},
     "output_type": "display_data"
    }
   ],
   "source": [
    "## run your algorithm and report your findings\n",
    "reg_w, reg_b, reg_losses  = logistic_regression_reg_train(d2_xtrain, d2_ytrain, lr=0.1)\n",
    "# Report the learnt parameters\n",
    "print(\"Learnt parameters using L2 Regularisation\")\n",
    "print(\"b: \", reg_b)\n",
    "print(\"w: \", reg_w.tolist())\n",
    "# Display the training loss in a graph\n",
    "#print(reg_losses)\n",
    "plt.figure()\n",
    "plt.plot(reg_losses)\n",
    "plt.xlabel('Iteration')\n",
    "plt.ylabel('Cross Entropy Loss')\n",
    "plt.title('Binary Cross Entropy Loss with L2 Regularisation per Iteration')\n",
    "plt.grid(True)\n",
    "plt.show()"
   ]
  },
  {
   "cell_type": "code",
   "execution_count": 156,
   "id": "bd572c2d",
   "metadata": {},
   "outputs": [
    {
     "name": "stdout",
     "output_type": "stream",
     "text": [
      "Training accuracy:  0.848\n",
      "Testing accuracy:  0.826\n"
     ]
    }
   ],
   "source": [
    "# Report the testing performace using L2 Regularisation\n",
    "L2_train_acc = logisticRegressionClassificationAccuracy(reg_w, d2_xtrain, d2_ytrain, reg_b)\n",
    "L2_test_acc = logisticRegressionClassificationAccuracy(reg_w, d2_xtest, d2_ytest, reg_b)\n",
    "\n",
    "print(\"Training accuracy: \", L2_train_acc)\n",
    "print(\"Testing accuracy: \", L2_test_acc)\n",
    "# creo que accuracy en este caso "
   ]
  },
  {
   "cell_type": "markdown",
   "id": "5351e0f1-5105-416a-afd4-c33150a38809",
   "metadata": {},
   "source": [
    "### Task 2.3 Newton's method (extension)\n",
    "\n",
    "For convex loss functions, Newton's method converges much faster than a simple gradient descent algorithm. Implement a learning algorithm for the regularised logsitic regression with Newton's method. You are allowed to use auto-diff to finish this task.\n",
    "\n",
    "\n",
    "* use Newton's method to find the same logistic regression model\n",
    "\n",
    "* compare with gradient descent's learning curve, what do you observe?"
   ]
  },
  {
   "cell_type": "code",
   "execution_count": null,
   "id": "db43f0bf-23aa-42c2-8b58-de318942586e",
   "metadata": {
    "execution": {
     "iopub.execute_input": "2025-02-13T13:00:22.679207Z",
     "iopub.status.busy": "2025-02-13T13:00:22.678747Z",
     "iopub.status.idle": "2025-02-13T13:00:22.694779Z",
     "shell.execute_reply": "2025-02-13T13:00:22.693544Z",
     "shell.execute_reply.started": "2025-02-13T13:00:22.679163Z"
    }
   },
   "outputs": [],
   "source": [
    "## run Newton's method "
   ]
  },
  {
   "cell_type": "code",
   "execution_count": null,
   "id": "23535e1f-0d7f-46cc-ab1f-691f66f48ebe",
   "metadata": {
    "execution": {
     "iopub.execute_input": "2025-02-13T13:00:22.696662Z",
     "iopub.status.busy": "2025-02-13T13:00:22.696226Z",
     "iopub.status.idle": "2025-02-13T13:00:22.712508Z",
     "shell.execute_reply": "2025-02-13T13:00:22.711289Z",
     "shell.execute_reply.started": "2025-02-13T13:00:22.696619Z"
    }
   },
   "outputs": [],
   "source": [
    "## report your findings"
   ]
  },
  {
   "cell_type": "markdown",
   "id": "07610797-58a1-4cea-9079-00c76ac10c17",
   "metadata": {},
   "source": [
    "### Task 2.4 Weighted logistic regression (extension)\n",
    "\n",
    "Weighted logistic regression is a variant of the traditional logistic regression. It is usually used when the classification dataset is imbalanced. By assigning higher weights to the minority class and lower weights to the majority class, the model is encouraged to pay more attention to the minority class.\n",
    "\n",
    "Specifically, each training instance $y^{(i)}$ is given a positive weight $r^{(i)}$, and the weighted cross entropy loss becomes \n",
    "\n",
    "$$L(\\mathbf{w}, b) = - \\frac{1}{\\sum_{i=1}^n r^{(i)}} \\sum_{i=1}^n r^{(i)}\\cdot \\left ( {y^{(i)}} \\ln \\sigma^{(i)}+ (1- y^{(i)}) \\ln (1-\\sigma^{(i)}) \\right ) + \\frac{\\lambda}{2} \\|\\mathbf{w}\\|_2^2$$\n",
    "\n",
    "We can for example use the relative frequency of the training data to set $r^{(i)}$. Let $n^+ = \\sum_{i=1}^n y^{(i)}$ and $n^- = n - n^+$ be the number of positive and negative training instances respectively in the training data. The weights can be set as \n",
    "\n",
    "$$r^{(i)} = \\begin{cases}\\frac{n}{n^-} & y^{(i)} = 0 \\\\ \\frac{n}{n^+} & y^{(i)} =1\\end{cases}$$\n",
    "\n",
    "\n",
    "\n",
    "* derive and write down the gradient of the weighted loss w.r.t the learning parameter\n",
    "\n",
    "* implement a suitable training algorithm to learn the parameter\n",
    "\n",
    "* report the learnt parameter with $\\lambda =0.1$"
   ]
  },
  {
   "cell_type": "code",
   "execution_count": null,
   "id": "e74f6fbd-0103-4f4e-a803-2870aefa7708",
   "metadata": {
    "execution": {
     "iopub.execute_input": "2025-02-13T13:00:22.714521Z",
     "iopub.status.busy": "2025-02-13T13:00:22.714064Z",
     "iopub.status.idle": "2025-02-13T13:00:22.730587Z",
     "shell.execute_reply": "2025-02-13T13:00:22.729247Z",
     "shell.execute_reply.started": "2025-02-13T13:00:22.714474Z"
    }
   },
   "outputs": [],
   "source": [
    "## gradient expression here"
   ]
  },
  {
   "cell_type": "code",
   "execution_count": null,
   "id": "04f452c5-9a7c-4be1-9775-16320c4f46ff",
   "metadata": {
    "execution": {
     "iopub.execute_input": "2025-02-13T13:00:22.732470Z",
     "iopub.status.busy": "2025-02-13T13:00:22.732024Z",
     "iopub.status.idle": "2025-02-13T13:00:22.749362Z",
     "shell.execute_reply": "2025-02-13T13:00:22.748086Z",
     "shell.execute_reply.started": "2025-02-13T13:00:22.732426Z"
    }
   },
   "outputs": [],
   "source": [
    "## Implement and run your algorithm and report your findings"
   ]
  },
  {
   "cell_type": "markdown",
   "id": "f9b10cb5",
   "metadata": {},
   "source": [
    "## Submission\n",
    "Hand in via MMS: the completed jupyter notebook. Your notebook should be reproducible. \n",
    "\n"
   ]
  },
  {
   "cell_type": "markdown",
   "id": "4422044c",
   "metadata": {},
   "source": [
    "## Marking\n",
    "Your submission will be marked as a whole. \n",
    "\n",
    "* to get a grade above 7, you are expected to finish at least Task 1.1 to a good standard\n",
    "* to get a grade above 10 and up to 13, you are expected to complete Task 1.1-1.2 and Task 2.1 to a good standard\n",
    "* to get a grade above 13 and up to 17, you are expected to complete all tasks except 2.3 and 2.4 a good standard\n",
    "* to achieve a grade of 17+, you are expected to finish all tasks well\n",
    "* to get 18+, you are expected to attempt all questions flawlessly\n",
    "\n",
    "\n",
    "## Policies\n",
    "\n",
    "* See the Generic Mark Descriptors in the School Student Handbook: \n",
    "\n",
    "  [http://info.cs.st-andrews.ac.uk/student-handbook/learning-teaching/feedback.html#Mark_Descriptors](http://info.cs.st-andrews.ac.uk/student-handbook/learning-teaching/feedback.html#Mark_Descriptors)\n",
    "\n",
    "\n",
    "* The standard penalty for late submission applies (Scheme A: 1 mark per 24 hour period, or part thereof):\n",
    "  \n",
    "  [http://info.cs.st-andrews.ac.uk/student-handbook/learning-teaching/assessment.html#lateness-penalties](http://info.cs.st-andrews.ac.uk/student-handbook/learning-teaching/assessment.html#lateness-penalties)\n",
    "\n",
    "\n",
    "* The University policy on Good Academic Practice applies:\n",
    "\n",
    "  [https://www.st-andrews.ac.uk/students/rules/academicpractice/](https://www.st-andrews.ac.uk/students/rules/academicpractice/)"
   ]
  }
 ],
 "metadata": {
  "kernelspec": {
   "display_name": "Python 3 (ipykernel)",
   "language": "python",
   "name": "python3"
  },
  "language_info": {
   "codemirror_mode": {
    "name": "ipython",
    "version": 3
   },
   "file_extension": ".py",
   "mimetype": "text/x-python",
   "name": "python",
   "nbconvert_exporter": "python",
   "pygments_lexer": "ipython3",
   "version": "3.11.4"
  }
 },
 "nbformat": 4,
 "nbformat_minor": 5
}
